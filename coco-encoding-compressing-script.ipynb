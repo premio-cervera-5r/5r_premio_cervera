{
 "cells": [
  {
   "cell_type": "markdown",
   "id": "68f216dd",
   "metadata": {
    "papermill": {
     "duration": 0.003632,
     "end_time": "2024-04-17T08:00:19.938370",
     "exception": false,
     "start_time": "2024-04-17T08:00:19.934738",
     "status": "completed"
    },
    "tags": []
   },
   "source": [
    "## **Codificación de máscaras de coco**\n",
    "El siguiente código recorre todas las carpetas de escenas en la carpeta de entrada y crea un marco de datos pd con el ID, Ancho, Alto, EncodedMasks de cada escena. \\\n",
    "Las máscaras codificadas de la misma escena se dividen con un espacio. \\\n",
    "La carpeta que desea codificar debe especificarse a continuación en la variable \"name_of_the_dataset\"."
   ]
  },
  {
   "cell_type": "code",
   "execution_count": 1,
   "id": "cdaca4dd",
   "metadata": {
    "_cell_guid": "b1076dfc-b9ad-4769-8c92-a6c4dae69d19",
    "_uuid": "8f2839f25d086af736a60e9eeb907d3b93b6e0e5",
    "execution": {
     "iopub.execute_input": "2024-04-17T08:00:19.947629Z",
     "iopub.status.busy": "2024-04-17T08:00:19.946960Z",
     "iopub.status.idle": "2024-04-17T08:00:38.143255Z",
     "shell.execute_reply": "2024-04-17T08:00:38.141780Z"
    },
    "papermill": {
     "duration": 18.204093,
     "end_time": "2024-04-17T08:00:38.146311",
     "exception": false,
     "start_time": "2024-04-17T08:00:19.942218",
     "status": "completed"
    },
    "tags": []
   },
   "outputs": [
    {
     "name": "stdout",
     "output_type": "stream",
     "text": [
      "Collecting pycocotools\r\n",
      "  Downloading pycocotools-2.0.7-cp310-cp310-manylinux_2_17_x86_64.manylinux2014_x86_64.whl.metadata (1.1 kB)\r\n",
      "Requirement already satisfied: matplotlib>=2.1.0 in /opt/conda/lib/python3.10/site-packages (from pycocotools) (3.7.5)\r\n",
      "Requirement already satisfied: numpy in /opt/conda/lib/python3.10/site-packages (from pycocotools) (1.26.4)\r\n",
      "Requirement already satisfied: contourpy>=1.0.1 in /opt/conda/lib/python3.10/site-packages (from matplotlib>=2.1.0->pycocotools) (1.2.0)\r\n",
      "Requirement already satisfied: cycler>=0.10 in /opt/conda/lib/python3.10/site-packages (from matplotlib>=2.1.0->pycocotools) (0.12.1)\r\n",
      "Requirement already satisfied: fonttools>=4.22.0 in /opt/conda/lib/python3.10/site-packages (from matplotlib>=2.1.0->pycocotools) (4.47.0)\r\n",
      "Requirement already satisfied: kiwisolver>=1.0.1 in /opt/conda/lib/python3.10/site-packages (from matplotlib>=2.1.0->pycocotools) (1.4.5)\r\n",
      "Requirement already satisfied: packaging>=20.0 in /opt/conda/lib/python3.10/site-packages (from matplotlib>=2.1.0->pycocotools) (21.3)\r\n",
      "Requirement already satisfied: pillow>=6.2.0 in /opt/conda/lib/python3.10/site-packages (from matplotlib>=2.1.0->pycocotools) (9.5.0)\r\n",
      "Requirement already satisfied: pyparsing>=2.3.1 in /opt/conda/lib/python3.10/site-packages (from matplotlib>=2.1.0->pycocotools) (3.1.1)\r\n",
      "Requirement already satisfied: python-dateutil>=2.7 in /opt/conda/lib/python3.10/site-packages (from matplotlib>=2.1.0->pycocotools) (2.9.0.post0)\r\n",
      "Requirement already satisfied: six>=1.5 in /opt/conda/lib/python3.10/site-packages (from python-dateutil>=2.7->matplotlib>=2.1.0->pycocotools) (1.16.0)\r\n",
      "Downloading pycocotools-2.0.7-cp310-cp310-manylinux_2_17_x86_64.manylinux2014_x86_64.whl (426 kB)\r\n",
      "\u001b[2K   \u001b[90m━━━━━━━━━━━━━━━━━━━━━━━━━━━━━━━━━━━━━━━━\u001b[0m \u001b[32m426.2/426.2 kB\u001b[0m \u001b[31m2.3 MB/s\u001b[0m eta \u001b[36m0:00:00\u001b[0m\r\n",
      "\u001b[?25hInstalling collected packages: pycocotools\r\n",
      "Successfully installed pycocotools-2.0.7\r\n"
     ]
    }
   ],
   "source": [
    "# Este entorno Python 3 viene con muchas bibliotecas analíticas útiles instaladas\n",
    "# Está definido por la imagen Docker kaggle/python:https://github.com/kaggle/docker-python\n",
    "# Por ejemplo, aquí hay varios paquetes útiles para cargar\n",
    "\n",
    "import numpy as np # librería para hacer calculos de álgebra lineal\n",
    "import pandas as pd # tratamiento de datos, archivo CSV  I/O (ej. pd.read_csv)\n",
    "import os\n",
    "import zlib\n",
    "import base64\n",
    "import typing as t\n",
    "import cv2\n",
    "import matplotlib.pyplot as plt\n",
    "!pip install pycocotools\n",
    "from pycocotools import _mask as coco_mask\n",
    "\n",
    "# Los archivos de datos de entrada están disponibles en la sección de sólo lectura \"../input/\" directory\n",
    "# Por ejemplo, ejecutando esto (haciendo clic en ejecutar o pulsando  Shift+Enter) se listarán todos los archivos del directorio de entrada\n",
    "\n",
    "# Puedes escribir hasta 20 GB en el directorio actual(/kaggle/working/) que se conserva como salida cuando se crea una versión utilizando \"Save & Run All\" \n",
    "# También puedes escribir archivos temporales en /kaggle/temp/, pero no se guardarán fuera de la sesión actual"
   ]
  },
  {
   "cell_type": "code",
   "execution_count": 2,
   "id": "949f2f34",
   "metadata": {
    "execution": {
     "iopub.execute_input": "2024-04-17T08:00:38.157538Z",
     "iopub.status.busy": "2024-04-17T08:00:38.156711Z",
     "iopub.status.idle": "2024-04-17T08:00:38.163270Z",
     "shell.execute_reply": "2024-04-17T08:00:38.162090Z"
    },
    "papermill": {
     "duration": 0.015431,
     "end_time": "2024-04-17T08:00:38.166108",
     "exception": false,
     "start_time": "2024-04-17T08:00:38.150677",
     "status": "completed"
    },
    "tags": []
   },
   "outputs": [],
   "source": [
    "# Ruta al directorio de entrada\n",
    "name_of_the_dataset = \"VALIDATION\" # elige entre 'TRAIN' O 'VALIDATION'\n",
    "input_directory = '/kaggle/input/5r-competicion/' + name_of_the_dataset + \"/\" + name_of_the_dataset\n"
   ]
  },
  {
   "cell_type": "code",
   "execution_count": 3,
   "id": "ec898ea2",
   "metadata": {
    "execution": {
     "iopub.execute_input": "2024-04-17T08:00:38.176997Z",
     "iopub.status.busy": "2024-04-17T08:00:38.176552Z",
     "iopub.status.idle": "2024-04-17T08:00:59.689164Z",
     "shell.execute_reply": "2024-04-17T08:00:59.687678Z"
    },
    "papermill": {
     "duration": 21.521033,
     "end_time": "2024-04-17T08:00:59.691697",
     "exception": false,
     "start_time": "2024-04-17T08:00:38.170664",
     "status": "completed"
    },
    "tags": []
   },
   "outputs": [
    {
     "name": "stdout",
     "output_type": "stream",
     "text": [
      "Carpeta 'all'eliminada en /kaggle/input/5r-competicion/VALIDATION/VALIDATION\n",
      "Procesando carpeta 20240321_152445 ...\n",
      "La codificación de la carpeta 20240321_152445 se ha realizado correctamente!\n",
      "Codificación finalizada!\n",
      "Procesando carpeta 20240321_152451 ...\n",
      "La codificación de la carpeta 20240321_152451 se ha realizado correctamente!\n",
      "Codificación finalizada!\n",
      "Procesando carpeta 20240321_152508 ...\n",
      "La codificación de la carpeta 20240321_152508 se ha realizado correctamente!\n",
      "Codificación finalizada!\n",
      "Procesando carpeta 20240321_152456 ...\n",
      "La codificación de la carpeta 20240321_152456 se ha realizado correctamente!\n",
      "Codificación finalizada!\n",
      "Procesando carpeta 20240321_152656 ...\n",
      "La codificación de la carpeta 20240321_152656 se ha realizado correctamente!\n",
      "Codificación finalizada!\n",
      "Procesando carpeta 20240321_152712 ...\n",
      "La codificación de la carpeta 20240321_152712 se ha realizado correctamente!\n",
      "Codificación finalizada!\n",
      "Procesando carpeta 20240321_152502 ...\n",
      "La codificación de la carpeta 20240321_152502 se ha realizado correctamente!\n",
      "Codificación finalizada!\n",
      "Procesando carpeta 20240321_152727 ...\n",
      "La codificación de la carpeta 20240321_152727 se ha realizado correctamente!\n",
      "Codificación finalizada!\n",
      "Procesando carpeta 20240321_152514 ...\n",
      "La codificación de la carpeta 20240321_152514 se ha realizado correctamente!\n",
      "Codificación finalizada!\n",
      "Procesando carpeta 20240321_152742 ...\n",
      "La codificación de la carpeta 20240321_152742 se ha realizado correctamente!\n",
      "Codificación finalizada!\n",
      "Carpeta 'all' no encontrada en /kaggle/input/5r-competicion/VALIDATION/VALIDATION/20240321_152445\n",
      "Carpeta 'all' no encontrada en /kaggle/input/5r-competicion/VALIDATION/VALIDATION/20240321_152451\n",
      "Carpeta 'all' no encontrada en /kaggle/input/5r-competicion/VALIDATION/VALIDATION/20240321_152508\n",
      "Carpeta 'all' no encontrada en /kaggle/input/5r-competicion/VALIDATION/VALIDATION/20240321_152456\n",
      "Carpeta 'all' no encontrada en /kaggle/input/5r-competicion/VALIDATION/VALIDATION/20240321_152656\n",
      "Carpeta 'all' no encontrada en /kaggle/input/5r-competicion/VALIDATION/VALIDATION/20240321_152712\n",
      "Carpeta 'all' no encontrada en /kaggle/input/5r-competicion/VALIDATION/VALIDATION/20240321_152502\n",
      "Carpeta 'all' no encontrada en /kaggle/input/5r-competicion/VALIDATION/VALIDATION/20240321_152727\n",
      "Carpeta 'all' no encontrada en /kaggle/input/5r-competicion/VALIDATION/VALIDATION/20240321_152514\n",
      "Carpeta 'all' no encontrada en /kaggle/input/5r-competicion/VALIDATION/VALIDATION/20240321_152742\n"
     ]
    }
   ],
   "source": [
    "# Ruta al directorio de entrada\n",
    "def encode_binary_mask(mask: np.ndarray) -> t.Text:\n",
    "    \"\"\"Convierte una máscara binaria a texto ascii de codificación de desafío OID.\"\"\"\n",
    "    # Comprobar máscara de entrada\n",
    "    if mask.dtype != np.uint8:\n",
    "        raise ValueError(\n",
    "            \"encode_binary_mask espera una máscara binaria, dtype recibido == %s\" % mask.dtype\n",
    "        )\n",
    "\n",
    "    mask = np.squeeze(mask)\n",
    "    if len(mask.shape) != 2:\n",
    "        raise ValueError(\n",
    "            \"encode_binary_mask espera una máscara 2d, forma recibida == %s\" % mask.shape\n",
    "        )\n",
    "\n",
    "    # Convertir la máscara de entrada en la entrada prevista de COCO API \n",
    "    mask_to_encode = mask.reshape(mask.shape[0], mask.shape[1], 1)\n",
    "    mask_to_encode = mask_to_encode.astype(np.uint8)\n",
    "    mask_to_encode = np.asfortranarray(mask_to_encode)\n",
    "\n",
    "    # codoficar máscara RLE \n",
    "    encoded_mask = coco_mask.encode(mask_to_encode)[0][\"counts\"]\n",
    "\n",
    "    # Compresión y codificación base64\n",
    "    binary_str = zlib.compress(encoded_mask, zlib.Z_BEST_COMPRESSION)\n",
    "    base64_str = base64.b64encode(binary_str)\n",
    "    return base64_str.decode(\"utf-8\")  # Devolver como cadena\n",
    "\n",
    "# Inicializar un diccionario para almacenar las máscaras codificadas\n",
    "encoded_masks_dict = {}\n",
    "\n",
    "# Recorrer todas las carpetas del directorio de entrada\n",
    "for root, dirs, files in os.walk(input_directory):\n",
    "    try:\n",
    "        dirs.remove('all')\n",
    "        print(f\"Carpeta 'all'eliminada en {root}\")\n",
    "    except:\n",
    "        print(f\"Carpeta 'all' no encontrada en {root}\")\n",
    "    for dir_name in dirs:\n",
    "        print(f\"Procesando carpeta {dir_name} ...\")\n",
    "        folder_path = os.path.join(root, dir_name)\n",
    "        # Inicializar las listas para almacenar las máscaras de cada carpeta\n",
    "        encoded_masks_str = \"\"\n",
    "        binary_masks_list = []\n",
    "        first_image_path = None\n",
    "        width = None\n",
    "        height = None\n",
    "        # Recorrer todos los archivos de la carpeta actual\n",
    "        for filename in os.listdir(folder_path):\n",
    "            if ((filename.lower().endswith('.png')) and (\"Obj\" in filename)):\n",
    "                # Leer la imagen\n",
    "                image_path = os.path.join(folder_path, filename)\n",
    "                image = cv2.imread(image_path, cv2.IMREAD_GRAYSCALE)  # Lectura en escala de grises\n",
    "\n",
    "                # Obtener anchura y altura de la imagen\n",
    "                height, width = image.shape\n",
    "\n",
    "                # Convertir a máscara binaria  (thresholding)\n",
    "                _, binary_mask = cv2.threshold(image, 128, 255, cv2.THRESH_BINARY)\n",
    "\n",
    "                # Encode the binary mask\n",
    "                encoded_mask = encode_binary_mask(binary_mask)\n",
    "\n",
    "                # Codificar la máscara binaria\n",
    "                if encoded_masks_str:\n",
    "                    encoded_masks_str += \" \" + encoded_mask\n",
    "                else:\n",
    "                    encoded_masks_str = encoded_mask\n",
    "\n",
    "                # Añade la máscara codificada y la máscara binaria a las listas\n",
    "                binary_masks_list.append(binary_mask)\n",
    "        print(f\"La codificación de la carpeta {dir_name} se ha realizado correctamente!\")\n",
    "        # Añade el nombre de la carpeta como ID de la imagen y su información asociada al diccionario\n",
    "        encoded_masks_dict[dir_name] = {\n",
    "            'Width': width,    # Ancho\n",
    "            'Height': height,  # Alto\n",
    "            'EncodedMasks': encoded_masks_str,   # máscaras codificadas\n",
    "            'Masks': binary_masks_list  # lista de máscaras binarias\n",
    "        }\n",
    "        print(\"Codificación finalizada!\")"
   ]
  },
  {
   "cell_type": "code",
   "execution_count": 4,
   "id": "e1b711a8",
   "metadata": {
    "execution": {
     "iopub.execute_input": "2024-04-17T08:00:59.704128Z",
     "iopub.status.busy": "2024-04-17T08:00:59.703695Z",
     "iopub.status.idle": "2024-04-17T08:00:59.754443Z",
     "shell.execute_reply": "2024-04-17T08:00:59.753286Z"
    },
    "papermill": {
     "duration": 0.060093,
     "end_time": "2024-04-17T08:00:59.757235",
     "exception": false,
     "start_time": "2024-04-17T08:00:59.697142",
     "status": "completed"
    },
    "tags": []
   },
   "outputs": [
    {
     "data": {
      "text/html": [
       "<div>\n",
       "<style scoped>\n",
       "    .dataframe tbody tr th:only-of-type {\n",
       "        vertical-align: middle;\n",
       "    }\n",
       "\n",
       "    .dataframe tbody tr th {\n",
       "        vertical-align: top;\n",
       "    }\n",
       "\n",
       "    .dataframe thead th {\n",
       "        text-align: right;\n",
       "    }\n",
       "</style>\n",
       "<table border=\"1\" class=\"dataframe\">\n",
       "  <thead>\n",
       "    <tr style=\"text-align: right;\">\n",
       "      <th></th>\n",
       "      <th>ID</th>\n",
       "      <th>Width</th>\n",
       "      <th>Height</th>\n",
       "      <th>EncodedMasks</th>\n",
       "    </tr>\n",
       "  </thead>\n",
       "  <tbody>\n",
       "    <tr>\n",
       "      <th>0</th>\n",
       "      <td>20240321_152445</td>\n",
       "      <td>2208</td>\n",
       "      <td>1242</td>\n",
       "      <td>eNo9T9EOgjAM/KXeQPDFGH0wAbbOmEk0qIBBQliC///mNs...</td>\n",
       "    </tr>\n",
       "    <tr>\n",
       "      <th>1</th>\n",
       "      <td>20240321_152451</td>\n",
       "      <td>2208</td>\n",
       "      <td>1242</td>\n",
       "      <td>eNplkVtTwkAMhf/SBgrOKNNBeXEsTeykF0FoQbmb1v//Zg...</td>\n",
       "    </tr>\n",
       "    <tr>\n",
       "      <th>2</th>\n",
       "      <td>20240321_152508</td>\n",
       "      <td>2208</td>\n",
       "      <td>1242</td>\n",
       "      <td>eNpVT8sOwjAM+6U6LRIcOCOxLZlgIB6DTRsw8fj/M0k7BK...</td>\n",
       "    </tr>\n",
       "    <tr>\n",
       "      <th>3</th>\n",
       "      <td>20240321_152456</td>\n",
       "      <td>2208</td>\n",
       "      <td>1242</td>\n",
       "      <td>eNpNUGtTwyAQ/EvskdrO+N3xwR0N0GhiE2uiZszD/P9vQu...</td>\n",
       "    </tr>\n",
       "    <tr>\n",
       "      <th>4</th>\n",
       "      <td>20240321_152656</td>\n",
       "      <td>2208</td>\n",
       "      <td>1242</td>\n",
       "      <td>eNpFzksOgkAQhOErdQ1s0AOgBqp1hkDwGR8YZAbvv7SjCx...</td>\n",
       "    </tr>\n",
       "  </tbody>\n",
       "</table>\n",
       "</div>"
      ],
      "text/plain": [
       "                ID  Width  Height  \\\n",
       "0  20240321_152445   2208    1242   \n",
       "1  20240321_152451   2208    1242   \n",
       "2  20240321_152508   2208    1242   \n",
       "3  20240321_152456   2208    1242   \n",
       "4  20240321_152656   2208    1242   \n",
       "\n",
       "                                        EncodedMasks  \n",
       "0  eNo9T9EOgjAM/KXeQPDFGH0wAbbOmEk0qIBBQliC///mNs...  \n",
       "1  eNplkVtTwkAMhf/SBgrOKNNBeXEsTeykF0FoQbmb1v//Zg...  \n",
       "2  eNpVT8sOwjAM+6U6LRIcOCOxLZlgIB6DTRsw8fj/M0k7BK...  \n",
       "3  eNpNUGtTwyAQ/EvskdrO+N3xwR0N0GhiE2uiZszD/P9vQu...  \n",
       "4  eNpFzksOgkAQhOErdQ1s0AOgBqp1hkDwGR8YZAbvv7SjCx...  "
      ]
     },
     "execution_count": 4,
     "metadata": {},
     "output_type": "execute_result"
    }
   ],
   "source": [
    "# Crear un DataFrame para exportación CSV (excluyendo el 'DecodedMask', máscaras decodificadas)\n",
    "df = pd.DataFrame.from_dict(encoded_masks_dict, orient='index')\n",
    "df.reset_index(inplace=True)\n",
    "df.rename(columns={'index': 'ID'}, inplace=True)\n",
    "\n",
    "# Eliminar la columna \"DecodedMask\" del DataFrame\n",
    "df.drop(columns=['Masks'], inplace=True)\n",
    "\n",
    "# Guardar el DataFrame en un archivo CSV\n",
    "df.to_csv(\"./\" + name_of_the_dataset + \"_COCO_COMPRESSED.csv\", index=False)\n",
    "\n",
    "# Visualizar el DataFrame\n",
    "df.head()\n"
   ]
  }
 ],
 "metadata": {
  "kaggle": {
   "accelerator": "none",
   "dataSources": [
    {
     "databundleVersionId": 8045853,
     "sourceId": 69003,
     "sourceType": "competition"
    }
   ],
   "dockerImageVersionId": 30673,
   "isGpuEnabled": false,
   "isInternetEnabled": true,
   "language": "python",
   "sourceType": "notebook"
  },
  "kernelspec": {
   "display_name": "Python 3",
   "language": "python",
   "name": "python3"
  },
  "language_info": {
   "codemirror_mode": {
    "name": "ipython",
    "version": 3
   },
   "file_extension": ".py",
   "mimetype": "text/x-python",
   "name": "python",
   "nbconvert_exporter": "python",
   "pygments_lexer": "ipython3",
   "version": "3.10.13"
  },
  "papermill": {
   "default_parameters": {},
   "duration": 43.755783,
   "end_time": "2024-04-17T08:01:00.386490",
   "environment_variables": {},
   "exception": null,
   "input_path": "__notebook__.ipynb",
   "output_path": "__notebook__.ipynb",
   "parameters": {},
   "start_time": "2024-04-17T08:00:16.630707",
   "version": "2.5.0"
  }
 },
 "nbformat": 4,
 "nbformat_minor": 5
}
